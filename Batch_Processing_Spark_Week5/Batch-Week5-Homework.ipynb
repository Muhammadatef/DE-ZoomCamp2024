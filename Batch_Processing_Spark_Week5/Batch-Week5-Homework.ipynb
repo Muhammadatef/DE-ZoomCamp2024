{
 "cells": [
  {
   "cell_type": "code",
   "execution_count": 1,
   "id": "917d58d3-8893-4de2-9fb4-09cd79cd6e6f",
   "metadata": {},
   "outputs": [],
   "source": [
    "import pyspark"
   ]
  },
  {
   "cell_type": "code",
   "execution_count": 2,
   "id": "da289d67-15d6-4e76-b652-3f69ce358080",
   "metadata": {},
   "outputs": [
    {
     "data": {
      "text/plain": [
       "'/usr/local/spark/python/pyspark/__init__.py'"
      ]
     },
     "execution_count": 2,
     "metadata": {},
     "output_type": "execute_result"
    }
   ],
   "source": [
    "pyspark.__file__"
   ]
  },
  {
   "cell_type": "code",
   "execution_count": 3,
   "id": "fbb69962-fc8a-4a96-8336-4a866f0e93d5",
   "metadata": {},
   "outputs": [],
   "source": [
    "from pyspark.sql import SparkSession"
   ]
  },
  {
   "cell_type": "code",
   "execution_count": 11,
   "id": "7aed5725-f097-4310-8094-f9bc0b77f8a5",
   "metadata": {},
   "outputs": [],
   "source": [
    "spark = SparkSession.builder.master(\"local[*]\").appName('test').getOrCreate()"
   ]
  },
  {
   "cell_type": "code",
   "execution_count": 12,
   "id": "2a881d7c-45f7-4670-ab10-9b33c9f33332",
   "metadata": {},
   "outputs": [],
   "source": [
    "spark1 = SparkSession.builder \\\n",
    "    .master(\"spark://spark:7077\") \\\n",
    "    .appName(\"Jupyter PySpark\") \\\n",
    "    .getOrCreate()\n"
   ]
  },
  {
   "cell_type": "markdown",
   "id": "61c30609-cfaa-40aa-856b-293dda87ca8c",
   "metadata": {},
   "source": [
    "#### Question1\n",
    "Install Spark and PySpark\r\n",
    "\r\n",
    "Install Spark\r\n",
    "Run PySpark\r\n",
    "Create a local spark session\r\n",
    "Execute spark.version.\r\n",
    "\n",
    "What's the output?\r\n",
    "\r\n"
   ]
  },
  {
   "cell_type": "code",
   "execution_count": 165,
   "id": "21d1ef1b-1ecb-4492-a26e-5459c5402489",
   "metadata": {},
   "outputs": [
    {
     "data": {
      "text/plain": [
       "'3.5.0'"
      ]
     },
     "execution_count": 165,
     "metadata": {},
     "output_type": "execute_result"
    }
   ],
   "source": [
    "\n",
    "spark.version"
   ]
  },
  {
   "cell_type": "code",
   "execution_count": 22,
   "id": "aa3bb86d-811d-4657-a9ea-c47f912a1055",
   "metadata": {},
   "outputs": [],
   "source": [
    "df = spark.read.csv('fhv_tripdata_2019-10.csv', header=True)"
   ]
  },
  {
   "cell_type": "code",
   "execution_count": 23,
   "id": "da087a96-a3be-4812-9f30-fdaf8f494061",
   "metadata": {},
   "outputs": [
    {
     "name": "stdout",
     "output_type": "stream",
     "text": [
      "+--------------------+-------------------+-------------------+------------+------------+-------+----------------------+\n",
      "|dispatching_base_num|    pickup_datetime|   dropOff_datetime|PUlocationID|DOlocationID|SR_Flag|Affiliated_base_number|\n",
      "+--------------------+-------------------+-------------------+------------+------------+-------+----------------------+\n",
      "|              B00009|2019-10-01 00:23:00|2019-10-01 00:35:00|         264|         264|   NULL|                B00009|\n",
      "|              B00013|2019-10-01 00:11:29|2019-10-01 00:13:22|         264|         264|   NULL|                B00013|\n",
      "|              B00014|2019-10-01 00:11:43|2019-10-01 00:37:20|         264|         264|   NULL|                B00014|\n",
      "|              B00014|2019-10-01 00:56:29|2019-10-01 00:57:47|         264|         264|   NULL|                B00014|\n",
      "|              B00014|2019-10-01 00:23:09|2019-10-01 00:28:27|         264|         264|   NULL|                B00014|\n",
      "|     B00021         |2019-10-01 00:00:48|2019-10-01 00:07:12|         129|         129|   NULL|       B00021         |\n",
      "|     B00021         |2019-10-01 00:47:23|2019-10-01 00:53:25|          57|          57|   NULL|       B00021         |\n",
      "|     B00021         |2019-10-01 00:10:06|2019-10-01 00:19:50|         173|         173|   NULL|       B00021         |\n",
      "|     B00021         |2019-10-01 00:51:37|2019-10-01 01:06:14|         226|         226|   NULL|       B00021         |\n",
      "|     B00021         |2019-10-01 00:28:23|2019-10-01 00:34:33|          56|          56|   NULL|       B00021         |\n",
      "|     B00021         |2019-10-01 00:31:17|2019-10-01 00:51:52|          82|          82|   NULL|       B00021         |\n",
      "|              B00037|2019-10-01 00:07:41|2019-10-01 00:15:23|         264|          71|   NULL|                B00037|\n",
      "|              B00037|2019-10-01 00:13:38|2019-10-01 00:25:51|         264|          39|   NULL|                B00037|\n",
      "|              B00037|2019-10-01 00:42:40|2019-10-01 00:53:47|         264|         188|   NULL|                B00037|\n",
      "|              B00037|2019-10-01 00:58:46|2019-10-01 01:10:11|         264|          91|   NULL|                B00037|\n",
      "|              B00037|2019-10-01 00:09:49|2019-10-01 00:14:37|         264|          71|   NULL|                B00037|\n",
      "|              B00037|2019-10-01 00:22:35|2019-10-01 00:36:53|         264|          35|   NULL|                B00037|\n",
      "|              B00037|2019-10-01 00:54:27|2019-10-01 01:03:37|         264|          61|   NULL|                B00037|\n",
      "|              B00037|2019-10-01 00:08:12|2019-10-01 00:28:47|         264|         198|   NULL|                B00037|\n",
      "|              B00053|2019-10-01 00:05:24|2019-10-01 00:53:03|         264|         264|   NULL|                  #N/A|\n",
      "+--------------------+-------------------+-------------------+------------+------------+-------+----------------------+\n",
      "only showing top 20 rows\n",
      "\n"
     ]
    }
   ],
   "source": [
    "df.show()"
   ]
  },
  {
   "cell_type": "code",
   "execution_count": 24,
   "id": "d748827b-80e1-428a-8dc8-0d4ce7c1b6c8",
   "metadata": {},
   "outputs": [
    {
     "data": {
      "text/plain": [
       "StructType([StructField('dispatching_base_num', StringType(), True), StructField('pickup_datetime', StringType(), True), StructField('dropOff_datetime', StringType(), True), StructField('PUlocationID', StringType(), True), StructField('DOlocationID', StringType(), True), StructField('SR_Flag', StringType(), True), StructField('Affiliated_base_number', StringType(), True)])"
      ]
     },
     "execution_count": 24,
     "metadata": {},
     "output_type": "execute_result"
    }
   ],
   "source": [
    "df.schema"
   ]
  },
  {
   "cell_type": "code",
   "execution_count": 30,
   "id": "ebf10dc5-bcb0-4d3b-8030-2cec35857ae0",
   "metadata": {},
   "outputs": [],
   "source": [
    "from pyspark.sql import types"
   ]
  },
  {
   "cell_type": "code",
   "execution_count": 34,
   "id": "fda008db-e235-4875-81c7-80e41780cc41",
   "metadata": {},
   "outputs": [],
   "source": [
    "schema = types.StructType(\n",
    "    [types.StructField('dispatching_base_num', types.StringType(), True), \n",
    "    types.StructField('pickup_datetime', types.TimestampType(), True), \n",
    "    types.StructField('dropOff_datetime', types.TimestampType(), True), \n",
    "    types.StructField('PUlocationID', types.IntegerType(), True), \n",
    "    types.StructField('DOlocationID', types.IntegerType(), True), \n",
    "    types.StructField('SR_Flag', types.StringType(), True), \n",
    "    types.StructField('Affiliated_base_number', types.StringType(), True)]\n",
    "    \n",
    "    )\n"
   ]
  },
  {
   "cell_type": "code",
   "execution_count": 35,
   "id": "b51801d6-d9e2-4308-90fb-951c11164e55",
   "metadata": {},
   "outputs": [],
   "source": [
    "df = spark.read.schema(schema).csv('fhv_tripdata_2019-10.csv', header=True)"
   ]
  },
  {
   "cell_type": "code",
   "execution_count": 36,
   "id": "5fb7dc96-3f84-4452-843b-7f0282b093fb",
   "metadata": {},
   "outputs": [
    {
     "name": "stdout",
     "output_type": "stream",
     "text": [
      "+--------------------+-------------------+-------------------+------------+------------+-------+----------------------+\n",
      "|dispatching_base_num|    pickup_datetime|   dropOff_datetime|PUlocationID|DOlocationID|SR_Flag|Affiliated_base_number|\n",
      "+--------------------+-------------------+-------------------+------------+------------+-------+----------------------+\n",
      "|              B00009|2019-10-01 00:23:00|2019-10-01 00:35:00|         264|         264|   NULL|                B00009|\n",
      "|              B00013|2019-10-01 00:11:29|2019-10-01 00:13:22|         264|         264|   NULL|                B00013|\n",
      "|              B00014|2019-10-01 00:11:43|2019-10-01 00:37:20|         264|         264|   NULL|                B00014|\n",
      "|              B00014|2019-10-01 00:56:29|2019-10-01 00:57:47|         264|         264|   NULL|                B00014|\n",
      "|              B00014|2019-10-01 00:23:09|2019-10-01 00:28:27|         264|         264|   NULL|                B00014|\n",
      "|     B00021         |2019-10-01 00:00:48|2019-10-01 00:07:12|         129|         129|   NULL|       B00021         |\n",
      "|     B00021         |2019-10-01 00:47:23|2019-10-01 00:53:25|          57|          57|   NULL|       B00021         |\n",
      "|     B00021         |2019-10-01 00:10:06|2019-10-01 00:19:50|         173|         173|   NULL|       B00021         |\n",
      "|     B00021         |2019-10-01 00:51:37|2019-10-01 01:06:14|         226|         226|   NULL|       B00021         |\n",
      "|     B00021         |2019-10-01 00:28:23|2019-10-01 00:34:33|          56|          56|   NULL|       B00021         |\n",
      "|     B00021         |2019-10-01 00:31:17|2019-10-01 00:51:52|          82|          82|   NULL|       B00021         |\n",
      "|              B00037|2019-10-01 00:07:41|2019-10-01 00:15:23|         264|          71|   NULL|                B00037|\n",
      "|              B00037|2019-10-01 00:13:38|2019-10-01 00:25:51|         264|          39|   NULL|                B00037|\n",
      "|              B00037|2019-10-01 00:42:40|2019-10-01 00:53:47|         264|         188|   NULL|                B00037|\n",
      "|              B00037|2019-10-01 00:58:46|2019-10-01 01:10:11|         264|          91|   NULL|                B00037|\n",
      "|              B00037|2019-10-01 00:09:49|2019-10-01 00:14:37|         264|          71|   NULL|                B00037|\n",
      "|              B00037|2019-10-01 00:22:35|2019-10-01 00:36:53|         264|          35|   NULL|                B00037|\n",
      "|              B00037|2019-10-01 00:54:27|2019-10-01 01:03:37|         264|          61|   NULL|                B00037|\n",
      "|              B00037|2019-10-01 00:08:12|2019-10-01 00:28:47|         264|         198|   NULL|                B00037|\n",
      "|              B00053|2019-10-01 00:05:24|2019-10-01 00:53:03|         264|         264|   NULL|                  #N/A|\n",
      "+--------------------+-------------------+-------------------+------------+------------+-------+----------------------+\n",
      "only showing top 20 rows\n",
      "\n"
     ]
    }
   ],
   "source": [
    "df.show()"
   ]
  },
  {
   "cell_type": "code",
   "execution_count": 37,
   "id": "7158d6cd-0735-4591-a034-ef789b2b95b9",
   "metadata": {},
   "outputs": [
    {
     "data": {
      "text/plain": [
       "Row(dispatching_base_num='B00009', pickup_datetime=datetime.datetime(2019, 10, 1, 0, 23), dropOff_datetime=datetime.datetime(2019, 10, 1, 0, 35), PUlocationID=264, DOlocationID=264, SR_Flag=None, Affiliated_base_number='B00009')"
      ]
     },
     "execution_count": 37,
     "metadata": {},
     "output_type": "execute_result"
    }
   ],
   "source": [
    "df.head()"
   ]
  },
  {
   "cell_type": "code",
   "execution_count": 68,
   "id": "eebc0202-50d4-4f39-84d7-268b7c68913b",
   "metadata": {},
   "outputs": [],
   "source": [
    "df= df.repartition(6)"
   ]
  },
  {
   "cell_type": "code",
   "execution_count": 60,
   "id": "d75ba1aa-e606-48a0-a06c-e8a380287df2",
   "metadata": {},
   "outputs": [],
   "source": [
    "df.write.parquet('partitions/2019_01')"
   ]
  },
  {
   "cell_type": "code",
   "execution_count": 43,
   "id": "2d838ee8-a539-41c7-896c-53d5e26e61f7",
   "metadata": {},
   "outputs": [
    {
     "name": "stdout",
     "output_type": "stream",
     "text": [
      "Number of partitions: 6\n"
     ]
    }
   ],
   "source": [
    "num_partitions = df.rdd.getNumPartitions()\n",
    "print(\"Number of partitions:\", num_partitions)\n"
   ]
  },
  {
   "cell_type": "code",
   "execution_count": 80,
   "id": "a50ca913-4da8-490a-a803-0a1cf710bb7f",
   "metadata": {},
   "outputs": [
    {
     "name": "stdout",
     "output_type": "stream",
     "text": [
      "+--------------------+-------------------+-------------------+------------+------------+-------+----------------------+\n",
      "|dispatching_base_num|    pickup_datetime|   dropOff_datetime|PUlocationID|DOlocationID|SR_Flag|Affiliated_base_number|\n",
      "+--------------------+-------------------+-------------------+------------+------------+-------+----------------------+\n",
      "|              B02688|2019-10-02 10:59:00|2019-10-02 11:34:46|         264|         107|   NULL|                B02688|\n",
      "|              B01843|2019-10-02 18:24:00|2019-10-02 22:21:00|         264|         264|   NULL|                  NULL|\n",
      "|              B02293|2019-10-01 11:05:20|2019-10-01 12:49:00|         107|         168|   NULL|                B02293|\n",
      "|              B03162|2019-10-03 07:16:31|2019-10-03 08:50:47|         210|         236|   NULL|                B03162|\n",
      "|              B01190|2019-10-02 08:41:46|2019-10-02 08:51:41|         264|          49|   NULL|                B01190|\n",
      "|              B00254|2019-10-02 13:20:45|2019-10-02 13:40:35|          13|         234|   NULL|                B02788|\n",
      "|              B01984|2019-10-01 09:36:00|2019-10-01 09:53:00|         264|         216|   NULL|                B01984|\n",
      "|              B00256|2019-10-03 06:40:27|2019-10-03 07:00:41|         264|         264|   NULL|                B00256|\n",
      "|              B01406|2019-10-02 23:27:58|2019-10-02 23:53:11|         264|         220|   NULL|                B02747|\n",
      "|              B01601|2019-10-02 08:38:00|2019-10-02 09:11:00|         264|         264|   NULL|                B01601|\n",
      "|              B02095|2019-10-01 18:05:42|2019-10-01 18:27:35|         264|         264|   NULL|                B02095|\n",
      "|              B02437|2019-10-02 13:54:38|2019-10-02 14:12:49|         264|         119|   NULL|                B02437|\n",
      "|              B01437|2019-10-01 13:17:19|2019-10-01 13:20:34|         264|         205|   NULL|                B03227|\n",
      "|              B00856|2019-10-02 17:34:10|2019-10-02 17:54:31|         264|          35|   NULL|                B00932|\n",
      "|              B00310|2019-10-02 10:33:06|2019-10-02 14:55:16|         264|         159|   NULL|                B00310|\n",
      "|              B01239|2019-10-02 18:05:59|2019-10-02 18:17:20|         264|          32|   NULL|                B02682|\n",
      "|              B02849|2019-10-02 04:55:20|2019-10-02 04:58:10|         264|         217|   NULL|                B02849|\n",
      "|              B03060|2019-10-02 08:11:56|2019-10-02 08:47:42|         264|         210|   NULL|                B03060|\n",
      "|              B02905|2019-10-02 15:08:18|2019-10-02 15:21:03|         264|         141|   NULL|                B02905|\n",
      "|              B02107|2019-10-02 16:50:09|2019-10-02 16:58:42|         264|         174|   NULL|                B02107|\n",
      "+--------------------+-------------------+-------------------+------------+------------+-------+----------------------+\n",
      "only showing top 20 rows\n",
      "\n"
     ]
    }
   ],
   "source": [
    "from pyspark.sql import functions as F\n",
    "df = spark.read.parquet('partitions/2019_01/*')\n",
    "df.show()"
   ]
  },
  {
   "cell_type": "markdown",
   "id": "6a1897a6-e935-4f38-a320-3f9edd6ab734",
   "metadata": {},
   "source": [
    "##### Question 2:\n",
    "FHV October 2019\n",
    "\n",
    "Read the October 2019 FHV into a Spark Dataframe with a schema as we did in the lessons.\n",
    "\n",
    "Repartition the Dataframe to 6 partitions and save it to parquet.\n",
    "\n",
    "What is the average size of the Parquet (ending with .parquet extension) Files that were created (in MB)? Select the answer which most closely matches.\n",
    "\n",
    "1MB\n",
    "6MB\n",
    "25MB\n",
    "87MB\n"
   ]
  },
  {
   "cell_type": "markdown",
   "id": "7696d283-15ea-45a9-92d6-e9911577c246",
   "metadata": {},
   "source": [
    "#### Answer \n",
    "\n",
    "each file is 5.9 MB which approximately to :\n",
    "###### 6MB"
   ]
  },
  {
   "cell_type": "markdown",
   "id": "a76643ca-b8ef-4722-b5f7-f57a51c305d7",
   "metadata": {},
   "source": [
    "#### Question 3:\n",
    "Count records\n",
    "\n",
    "How many taxi trips were there on the 15th of October?\n",
    "\n",
    "Consider only trips that started on the 15th of October.\n",
    "\n",
    "108,164\n",
    "12,856\n",
    "452,470\n",
    "62,610\n"
   ]
  },
  {
   "cell_type": "markdown",
   "id": "0d656b91-6f31-472b-bcfb-7d77ecd31237",
   "metadata": {},
   "source": [
    "#### Answer\n",
    "##### 62610\n"
   ]
  },
  {
   "cell_type": "code",
   "execution_count": 78,
   "id": "3e786a0f-cf48-441b-b81b-8e90383e9742",
   "metadata": {},
   "outputs": [
    {
     "name": "stderr",
     "output_type": "stream",
     "text": [
      "/usr/local/spark/python/pyspark/sql/dataframe.py:329: FutureWarning: Deprecated in 2.0, use createOrReplaceTempView instead.\n",
      "  warnings.warn(\"Deprecated in 2.0, use createOrReplaceTempView instead.\", FutureWarning)\n"
     ]
    }
   ],
   "source": [
    "df.registerTempTable('fhvhv')"
   ]
  },
  {
   "cell_type": "code",
   "execution_count": 84,
   "id": "ee0995f4-6fc9-418c-b486-5a1637835dba",
   "metadata": {},
   "outputs": [
    {
     "name": "stdout",
     "output_type": "stream",
     "text": [
      "+--------+\n",
      "|count(1)|\n",
      "+--------+\n",
      "|   62610|\n",
      "+--------+\n",
      "\n"
     ]
    }
   ],
   "source": [
    "spark.sql(\"\"\" select count(*) from fhvhv where DATE(pickup_datetime) = '2019-10-15'; \"\"\").show()"
   ]
  },
  {
   "cell_type": "markdown",
   "id": "cc3ab538-ad09-4a0b-80f6-4f15bb81c7b8",
   "metadata": {},
   "source": [
    "#### Question 4:\r\n",
    "Longest trip for each day\r\n",
    "\r\n",
    "What is the length of the longest trip in the dataset in hours?\r\n",
    "\r\n",
    "631,152.50 Hours\r\n",
    "243.44 Hours\r\n",
    "7.68 Hours\r\n",
    "3.32 Hours\r\n"
   ]
  },
  {
   "cell_type": "markdown",
   "id": "f24817d2-35bb-41a2-bd23-c23d7db68422",
   "metadata": {},
   "source": [
    "#### Answer \n",
    "631,152.50 Hours"
   ]
  },
  {
   "cell_type": "code",
   "execution_count": 129,
   "id": "ff96bc09-dd96-4c59-ba99-b3486c8d765f",
   "metadata": {},
   "outputs": [],
   "source": [
    "from pyspark.sql.functions import col, asc,desc\n"
   ]
  },
  {
   "cell_type": "code",
   "execution_count": 131,
   "id": "369cb26e-fef4-4421-a04c-5172f0bcf676",
   "metadata": {},
   "outputs": [
    {
     "name": "stdout",
     "output_type": "stream",
     "text": [
      "+--------------------+-------------------+-------------------+------------+------------+-------+----------------------+----------------+\n",
      "|dispatching_base_num|    pickup_datetime|   dropOff_datetime|PUlocationID|DOlocationID|SR_Flag|Affiliated_base_number|duration_seconds|\n",
      "+--------------------+-------------------+-------------------+------------+------------+-------+----------------------+----------------+\n",
      "|              B02832|2019-10-28 09:00:00|2091-10-28 09:30:00|         264|         264|   NULL|                B02832|      2272149000|\n",
      "|              B02832|2019-10-11 18:00:00|2091-10-11 18:30:00|         264|         264|   NULL|                B02832|      2272149000|\n",
      "|              B02416|2019-10-31 23:46:33|2029-11-01 00:13:00|        NULL|        NULL|   NULL|                B02416|       315620787|\n",
      "|     B00746         |2019-10-01 21:43:42|2027-10-01 21:45:23|         159|         264|   NULL|       B00746         |       252460901|\n",
      "|              B02921|2019-10-17 14:00:00|2020-10-18 00:00:00|        NULL|        NULL|   NULL|                B03037|        31658400|\n",
      "|              B03110|2019-10-26 21:26:00|2020-10-26 21:36:00|         264|         264|   NULL|                B03110|        31623000|\n",
      "|              B03080|2019-10-30 12:30:04|2019-12-30 13:02:08|         264|          50|   NULL|                B02883|         5272324|\n",
      "|     B03084         |2019-10-25 07:04:57|2019-12-08 07:54:33|         168|         235|   NULL|                B02765|         3804576|\n",
      "|     B03084         |2019-10-25 07:04:57|2019-12-08 07:21:11|         168|         235|   NULL|                B02765|         3802574|\n",
      "|              B01452|2019-10-01 13:47:17|2019-11-03 15:20:28|          44|         214|   NULL|                B01452|         2856791|\n",
      "|              B01452|2019-10-01 07:21:12|2019-11-03 08:44:21|           5|           6|   NULL|                B01452|         2856189|\n",
      "|              B01452|2019-10-01 13:41:00|2019-11-03 14:58:51|         206|         172|   NULL|                B01452|         2855871|\n",
      "|              B01452|2019-10-01 18:43:20|2019-11-03 19:43:13|          23|           5|   NULL|                B01452|         2854793|\n",
      "|              B01452|2019-10-01 18:43:46|2019-11-03 19:43:04|         251|          44|   NULL|                B01452|         2854758|\n",
      "|              B01452|2019-10-01 07:07:09|2019-11-03 07:58:46|         204|          23|   NULL|                B01452|         2854297|\n",
      "|              B01452|2019-10-01 14:49:28|2019-11-03 15:38:07|         214|         156|   NULL|                B01452|         2854119|\n",
      "|              B01452|2019-10-01 05:36:30|2019-11-03 06:23:36|         214|          84|   NULL|                B01452|         2854026|\n",
      "|              B00972|2019-10-01 15:02:55|2019-11-03 15:49:05|         204|           1|   NULL|                B00972|         2853970|\n",
      "|              B00972|2019-10-01 06:08:01|2019-11-03 06:53:15|         156|         204|   NULL|                B00972|         2853914|\n",
      "|              B01452|2019-10-01 06:41:17|2019-11-03 07:26:04|          44|          23|   NULL|                B01452|         2853887|\n",
      "+--------------------+-------------------+-------------------+------------+------------+-------+----------------------+----------------+\n",
      "only showing top 20 rows\n",
      "\n"
     ]
    }
   ],
   "source": [
    "df \\\n",
    "    .withColumn('duration_seconds', df.dropOff_datetime.cast('long')-df.pickup_datetime.cast('long')) \\\n",
    "    .orderBy(col('duration_seconds').desc()) \\\n",
    "    .show()\n"
   ]
  },
  {
   "cell_type": "code",
   "execution_count": 136,
   "id": "5b325e20-3b59-4f3f-9f73-efcfdc655e63",
   "metadata": {},
   "outputs": [
    {
     "name": "stdout",
     "output_type": "stream",
     "text": [
      "+-------------------+-------------------+------------------+\n",
      "|    pickup_datetime|   dropoff_datetime|          duration|\n",
      "+-------------------+-------------------+------------------+\n",
      "|2019-10-28 09:00:00|2091-10-28 09:30:00|          631152.5|\n",
      "|2019-10-11 18:00:00|2091-10-11 18:30:00|          631152.5|\n",
      "|2019-10-31 23:46:33|2029-11-01 00:13:00| 87672.44083333333|\n",
      "|2019-10-01 21:43:42|2027-10-01 21:45:23| 70128.02805555555|\n",
      "|2019-10-17 14:00:00|2020-10-18 00:00:00|            8794.0|\n",
      "|2019-10-26 21:26:00|2020-10-26 21:36:00| 8784.166666666666|\n",
      "|2019-10-30 12:30:04|2019-12-30 13:02:08|1464.5344444444445|\n",
      "|2019-10-25 07:04:57|2019-12-08 07:54:33|1056.8266666666666|\n",
      "|2019-10-25 07:04:57|2019-12-08 07:21:11|1056.2705555555556|\n",
      "|2019-10-01 13:47:17|2019-11-03 15:20:28| 793.5530555555556|\n",
      "|2019-10-01 07:21:12|2019-11-03 08:44:21| 793.3858333333334|\n",
      "|2019-10-01 13:41:00|2019-11-03 14:58:51|          793.2975|\n",
      "|2019-10-01 18:43:20|2019-11-03 19:43:13| 792.9980555555555|\n",
      "|2019-10-01 18:43:46|2019-11-03 19:43:04| 792.9883333333333|\n",
      "|2019-10-01 07:07:09|2019-11-03 07:58:46| 792.8602777777778|\n",
      "|2019-10-01 14:49:28|2019-11-03 15:38:07| 792.8108333333333|\n",
      "|2019-10-01 05:36:30|2019-11-03 06:23:36|           792.785|\n",
      "|2019-10-01 15:02:55|2019-11-03 15:49:05| 792.7694444444444|\n",
      "|2019-10-01 06:08:01|2019-11-03 06:53:15| 792.7538888888889|\n",
      "|2019-10-01 06:41:17|2019-11-03 07:26:04| 792.7463888888889|\n",
      "+-------------------+-------------------+------------------+\n",
      "only showing top 20 rows\n",
      "\n"
     ]
    }
   ],
   "source": [
    "spark.sql(\"\"\"\n",
    "SELECT\n",
    "    pickup_datetime, dropoff_datetime,\n",
    "    (unix_timestamp(dropoff_datetime) - unix_timestamp(pickup_datetime)) / 3600  AS duration\n",
    "FROM\n",
    "    fhvhv\n",
    "ORDER BY\n",
    "    duration DESC\n",
    "\"\"\").show()\n"
   ]
  },
  {
   "cell_type": "markdown",
   "id": "5b8b50ec-0593-40a4-9aed-8e17061ebecb",
   "metadata": {},
   "source": [
    "#### Question 5:\r\n",
    "User Interface\r\n",
    "\r\n",
    "Spark’s User Interface which shows the application's dashboard runs on which local port?\r\n",
    "\r\n",
    "80\r\n",
    "443\r\n",
    "4040\r\n",
    "8080\r\n"
   ]
  },
  {
   "cell_type": "markdown",
   "id": "1c1275bc-37b8-4068-a1ed-652e21f90c78",
   "metadata": {},
   "source": [
    "#### Answer \n",
    "4040\n"
   ]
  },
  {
   "cell_type": "markdown",
   "id": "c6093f95-1ab8-40ea-9ba8-7df4bb0cd419",
   "metadata": {},
   "source": [
    "#### Question 6:\r\n",
    "Least frequent pickup location zone\r\n",
    "\r\n",
    "Load the zone lookup data into a temp view in Spark\r\n",
    "Zone Data\r\n",
    "\r\n",
    "Using the zone lookup data and the FHV October 2019 data, what is the name of the LEAST frequent pickup location Zone?\r\n",
    "\r\n",
    "East Chelsea\r\n",
    "Jamaica Bay\r\n",
    "Union Sq\r\n",
    "Crown Heights North\r\n"
   ]
  },
  {
   "cell_type": "markdown",
   "id": "83f84674-f3d1-4b84-8a80-a592cb28c707",
   "metadata": {},
   "source": [
    "#### Answer \n",
    "\n",
    "##### Jamaica Bay\r\n"
   ]
  },
  {
   "cell_type": "code",
   "execution_count": 138,
   "id": "377b1a6d-5223-41be-9aa0-bbf724951771",
   "metadata": {},
   "outputs": [],
   "source": [
    "df_zones = spark.read.csv('taxi_zone_lookup.csv/', header=True)\n"
   ]
  },
  {
   "cell_type": "code",
   "execution_count": 141,
   "id": "b299a679-117f-4ceb-8ece-81cf8a056e55",
   "metadata": {},
   "outputs": [],
   "source": [
    "df_zones.write.parquet('zones')\n"
   ]
  },
  {
   "cell_type": "code",
   "execution_count": 142,
   "id": "a4c5ea27-bf9e-483b-bbcf-2e1a79ed11a2",
   "metadata": {},
   "outputs": [],
   "source": [
    "df_zone = spark.read.parquet('zones/')\n"
   ]
  },
  {
   "cell_type": "code",
   "execution_count": 143,
   "id": "d08bd657-5ad7-4a11-97ea-0df4d3b8cd88",
   "metadata": {},
   "outputs": [
    {
     "name": "stdout",
     "output_type": "stream",
     "text": [
      "+----------+-------------+--------------------+------------+\n",
      "|LocationID|      Borough|                Zone|service_zone|\n",
      "+----------+-------------+--------------------+------------+\n",
      "|         1|          EWR|      Newark Airport|         EWR|\n",
      "|         2|       Queens|         Jamaica Bay|   Boro Zone|\n",
      "|         3|        Bronx|Allerton/Pelham G...|   Boro Zone|\n",
      "|         4|    Manhattan|       Alphabet City| Yellow Zone|\n",
      "|         5|Staten Island|       Arden Heights|   Boro Zone|\n",
      "|         6|Staten Island|Arrochar/Fort Wad...|   Boro Zone|\n",
      "|         7|       Queens|             Astoria|   Boro Zone|\n",
      "|         8|       Queens|        Astoria Park|   Boro Zone|\n",
      "|         9|       Queens|          Auburndale|   Boro Zone|\n",
      "|        10|       Queens|        Baisley Park|   Boro Zone|\n",
      "|        11|     Brooklyn|          Bath Beach|   Boro Zone|\n",
      "|        12|    Manhattan|        Battery Park| Yellow Zone|\n",
      "|        13|    Manhattan|   Battery Park City| Yellow Zone|\n",
      "|        14|     Brooklyn|           Bay Ridge|   Boro Zone|\n",
      "|        15|       Queens|Bay Terrace/Fort ...|   Boro Zone|\n",
      "|        16|       Queens|             Bayside|   Boro Zone|\n",
      "|        17|     Brooklyn|             Bedford|   Boro Zone|\n",
      "|        18|        Bronx|        Bedford Park|   Boro Zone|\n",
      "|        19|       Queens|           Bellerose|   Boro Zone|\n",
      "|        20|        Bronx|             Belmont|   Boro Zone|\n",
      "+----------+-------------+--------------------+------------+\n",
      "only showing top 20 rows\n",
      "\n"
     ]
    }
   ],
   "source": [
    "df_zone.show()"
   ]
  },
  {
   "cell_type": "code",
   "execution_count": 150,
   "id": "51e64409-c69e-4508-955f-91baefe2699f",
   "metadata": {},
   "outputs": [],
   "source": [
    "df_join=df.join(df_zone, df.PUlocationID == df_zone.LocationID)"
   ]
  },
  {
   "cell_type": "code",
   "execution_count": 154,
   "id": "4aa93026-08bd-4eb5-9759-6ec755c1e228",
   "metadata": {},
   "outputs": [
    {
     "name": "stdout",
     "output_type": "stream",
     "text": [
      "+--------------------+-------------------+-------------------+------------+------------+-------+----------------------+----------+---------+--------------+------------+\n",
      "|dispatching_base_num|    pickup_datetime|   dropOff_datetime|PUlocationID|DOlocationID|SR_Flag|Affiliated_base_number|LocationID|  Borough|          Zone|service_zone|\n",
      "+--------------------+-------------------+-------------------+------------+------------+-------+----------------------+----------+---------+--------------+------------+\n",
      "|              B02688|2019-10-02 10:59:00|2019-10-02 11:34:46|         264|         107|   NULL|                B02688|       264|  Unknown|            NV|         N/A|\n",
      "|              B01843|2019-10-02 18:24:00|2019-10-02 22:21:00|         264|         264|   NULL|                  NULL|       264|  Unknown|            NV|         N/A|\n",
      "|              B02293|2019-10-01 11:05:20|2019-10-01 12:49:00|         107|         168|   NULL|                B02293|       107|Manhattan|      Gramercy| Yellow Zone|\n",
      "|              B03162|2019-10-03 07:16:31|2019-10-03 08:50:47|         210|         236|   NULL|                B03162|       210| Brooklyn|Sheepshead Bay|   Boro Zone|\n",
      "|              B01190|2019-10-02 08:41:46|2019-10-02 08:51:41|         264|          49|   NULL|                B01190|       264|  Unknown|            NV|         N/A|\n",
      "+--------------------+-------------------+-------------------+------------+------------+-------+----------------------+----------+---------+--------------+------------+\n",
      "only showing top 5 rows\n",
      "\n"
     ]
    }
   ],
   "source": [
    "df_join.show(5)"
   ]
  },
  {
   "cell_type": "code",
   "execution_count": 159,
   "id": "57ef27f5-f1ef-4e06-982a-5608cda58b23",
   "metadata": {},
   "outputs": [],
   "source": [
    "df_join = df_join.drop('LocationID')"
   ]
  },
  {
   "cell_type": "code",
   "execution_count": 162,
   "id": "24939ece-0bce-4e98-bdab-c594568fa82d",
   "metadata": {},
   "outputs": [
    {
     "name": "stdout",
     "output_type": "stream",
     "text": [
      "+--------------------+-------------------+-------------------+------------+------------+-------+----------------------+-------+----+------------+\n",
      "|dispatching_base_num|    pickup_datetime|   dropOff_datetime|PUlocationID|DOlocationID|SR_Flag|Affiliated_base_number|Borough|Zone|service_zone|\n",
      "+--------------------+-------------------+-------------------+------------+------------+-------+----------------------+-------+----+------------+\n",
      "|              B02688|2019-10-02 10:59:00|2019-10-02 11:34:46|         264|         107|   NULL|                B02688|Unknown|  NV|         N/A|\n",
      "|              B01843|2019-10-02 18:24:00|2019-10-02 22:21:00|         264|         264|   NULL|                  NULL|Unknown|  NV|         N/A|\n",
      "+--------------------+-------------------+-------------------+------------+------------+-------+----------------------+-------+----+------------+\n",
      "only showing top 2 rows\n",
      "\n"
     ]
    }
   ],
   "source": [
    "df_join.show(2)"
   ]
  },
  {
   "cell_type": "code",
   "execution_count": 170,
   "id": "8928aaa1-0be4-4385-b4c9-95aab47946fd",
   "metadata": {},
   "outputs": [
    {
     "name": "stdout",
     "output_type": "stream",
     "text": [
      "+--------------------+-----+\n",
      "|                Zone|count|\n",
      "+--------------------+-----+\n",
      "|           Homecrest| 1295|\n",
      "|              Corona| 7175|\n",
      "|    Bensonhurst West| 1880|\n",
      "|         Westerleigh| 1317|\n",
      "|Charleston/Totten...| 2533|\n",
      "|      Newark Airport| 2532|\n",
      "|          Douglaston|  291|\n",
      "|East Concourse/Co...| 3294|\n",
      "|          Mount Hope| 3973|\n",
      "|      Pelham Parkway| 1522|\n",
      "|         Marble Hill|  116|\n",
      "|           Rego Park| 1697|\n",
      "|Upper East Side S...| 2358|\n",
      "|Heartland Village...| 1054|\n",
      "|       Dyker Heights|  690|\n",
      "|   Kew Gardens Hills|  906|\n",
      "|     Jackson Heights|10952|\n",
      "|             Bayside| 2547|\n",
      "|TriBeCa/Civic Center| 1918|\n",
      "|      Yorkville West|  840|\n",
      "+--------------------+-----+\n",
      "only showing top 20 rows\n",
      "\n",
      "None\n",
      "Jamaica Bay\n"
     ]
    }
   ],
   "source": [
    "pickup_counts = df_join.groupBy(\"Zone\").count()\n",
    "print(pickup_counts.show())\n",
    "# Find the least frequent pickup location zone\n",
    "least_frequent_zone = pickup_counts.orderBy(\"count\").first()[\"Zone\"]\n",
    "print(least_frequent_zone)"
   ]
  },
  {
   "cell_type": "code",
   "execution_count": null,
   "id": "a1a0fa5d-98db-4ead-aafc-7347ef111c5b",
   "metadata": {},
   "outputs": [],
   "source": []
  }
 ],
 "metadata": {
  "kernelspec": {
   "display_name": "Python 3 (ipykernel)",
   "language": "python",
   "name": "python3"
  },
  "language_info": {
   "codemirror_mode": {
    "name": "ipython",
    "version": 3
   },
   "file_extension": ".py",
   "mimetype": "text/x-python",
   "name": "python",
   "nbconvert_exporter": "python",
   "pygments_lexer": "ipython3",
   "version": "3.11.6"
  }
 },
 "nbformat": 4,
 "nbformat_minor": 5
}
